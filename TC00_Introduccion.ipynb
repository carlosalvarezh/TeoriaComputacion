{
 "cells": [
  {
   "cell_type": "markdown",
   "metadata": {},
   "source": [
    "<h1 align=\"center\">Introducción a la Teoría de la Computación</h1>\n",
    "<h1 align=\"center\">Introducción</h1>\n",
    "<h1 align=\"center\">2025</h1>\n",
    "<h1 align=\"center\">MEDELLÍN - COLOMBIA </h1>"
   ]
  },
  {
   "cell_type": "markdown",
   "metadata": {},
   "source": [
    "*** \n",
    "|[![Outlook](https://img.shields.io/badge/Microsoft_Outlook-0078D4?style=plastic&logo=microsoft-outlook&logoColor=white)](mailto:calvarezh@udemedellin.edu.co)||[![Open In Colab](https://colab.research.google.com/assets/colab-badge.svg)](https://colab.research.google.com/github/carlosalvarezh/EstructuraDatosAlgoritmos2/blob/main/S09a_AlgoritmosParalelosConceptos.ipynb)\n",
    "|-:|:-|--:|\n",
    "|[![LinkedIn](https://img.shields.io/badge/linkedin-%230077B5.svg?style=plastic&logo=linkedin&logoColor=white)](https://www.linkedin.com/in/carlosalvarez5/)|[![@alvarezhenao](https://img.shields.io/twitter/url/https/twitter.com/alvarezhenao.svg?style=social&label=Follow%20%40alvarezhenao)](https://twitter.com/alvarezhenao)|[![@carlosalvarezh](https://img.shields.io/badge/github-%23121011.svg?style=plastic&logo=github&logoColor=white)](https://github.com/carlosalvarezh)|\n",
    "\n",
    "<table>\n",
    " <tr align=left><td><img align=left src=\"https://github.com/carlosalvarezh/Curso_CEC_EAFIT/blob/main/images/CCLogoColorPop1.gif?raw=true\" width=\"25\">\n",
    " <td>Text provided under a Creative Commons Attribution license, CC-BY. All code is made available under the FSF-approved MIT license.(c) Carlos Alberto Alvarez Henao</td>\n",
    "</table>\n",
    "\n",
    "***"
   ]
  },
  {
   "cell_type": "markdown",
   "metadata": {},
   "source": [
    "# **Contenido**"
   ]
  },
  {
   "cell_type": "markdown",
   "metadata": {},
   "source": [
    "### **Tema 1: Fundamentos y Bases del Lenguaje**\n",
    "- Repaso de conceptos de teoría de conjuntos y funciones  \n",
    "- Alfabetos, cadenas y lenguajes\n",
    "\n",
    "- **Actividades:**  \n",
    "  - Ejercicios cortos en clase para reforzar los conceptos vistos.\n",
    "  - Mini-taller para identificar y construir ejemplos de alfabetos y cadenas.\n",
    "\n",
    "### **Tema 2: Autómatas Finitos – Introducción y Primeros Ejercicios**\n",
    "- Autómatas Finitos (definición, representación, tipos y funcionamiento)\n",
    "- **Actividades:**  \n",
    "  - Resolución de ejercicios en grupos.\n",
    "  - Discusión en plenaria de soluciones y dudas.\n",
    "\n",
    "### **Tema 3: Autómatas Finitos – Profundización y Lema de Bombeo**\n",
    "- Continuación del estudio de autómatas finitos (propiedades, determinismo vs. no determinismo)  \n",
    "- Introducción al lema de bombeo y sus implicaciones en el análisis de lenguajes\n",
    "- **Actividades:**  \n",
    "  - Ejercicios de demostración y análisis en parejas o grupos pequeños.\n",
    "  - Puesta en común de estrategias y resolución de problemas complejos.\n",
    "\n",
    "### **Tema 4: Lenguajes y Gramáticas Independientes de Contexto – Teoría**\n",
    "- Introducción a lenguajes formales y gramáticas independientes de contexto (GIC)\n",
    "- **Actividades:**  \n",
    "  - Ejercicios en clase para construir gramáticas.\n",
    "  - Discusión sobre la relación entre gramáticas y autómatas (por ejemplo, autómatas de pila).\n",
    "\n",
    "### **Tema 5: Lenguajes y Gramáticas – Taller y Profundización**\n",
    "- Continuación del estudio de lenguajes y gramáticas independientes de contexto\n",
    "- **Actividades:**  \n",
    "  - Ejercicios de laboratorio y discusión en grupo.\n",
    "  - Retroalimentación inmediata para resolver dudas y afianzar conceptos.\n",
    "\n",
    "### **Tema 6: Máquinas de Turing – Teoría y Práctica**\n",
    "- Máquinas de Turing: concepto, estructura, ejemplos y aplicaciones en la teoría de la computación\n",
    "- **Actividades:**  \n",
    "  - Taller interactivo en el que los estudiantes diseñen una máquina de Turing para un problema específico.\n",
    "  - Sesión final de preguntas, revisión de contenidos y discusión integradora.\n",
    "\n"
   ]
  },
  {
   "cell_type": "markdown",
   "metadata": {},
   "source": [
    "# **Evaluación**"
   ]
  },
  {
   "cell_type": "markdown",
   "metadata": {},
   "source": [
    "- **Tarea 01 (15%)** - Entrega segunda semana \n",
    "- **Tarea 02 (20%)** - Entrega tercera semana\n",
    "- **Tarea 03 (20%)** - Entrega cuarta semana\n",
    "- **Tarea 04 (20%)** - Entrega quinta semana\n",
    "- **Final (25%)** - Semana de finales\n"
   ]
  },
  {
   "cell_type": "markdown",
   "metadata": {},
   "source": []
  }
 ],
 "metadata": {
  "language_info": {
   "name": "python"
  }
 },
 "nbformat": 4,
 "nbformat_minor": 2
}
