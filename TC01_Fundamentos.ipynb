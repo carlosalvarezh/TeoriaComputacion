{
 "cells": [
  {
   "cell_type": "markdown",
   "metadata": {},
   "source": [
    "<h1 align=\"center\">Introducción a la Teoría de la Computación</h1>\n",
    "<h1 align=\"center\">Fundamentos</h1>\n",
    "<h1 align=\"center\">2025</h1>\n",
    "<h1 align=\"center\">MEDELLÍN - COLOMBIA </h1>"
   ]
  },
  {
   "cell_type": "markdown",
   "metadata": {},
   "source": [
    "*** \n",
    "|[![Outlook](https://img.shields.io/badge/Microsoft_Outlook-0078D4?style=plastic&logo=microsoft-outlook&logoColor=white)](mailto:calvarezh@udemedellin.edu.co)||[![Open In Colab](https://colab.research.google.com/assets/colab-badge.svg)](https://colab.research.google.com/github/carlosalvarezh/EstructuraDatosAlgoritmos2/blob/main/S09a_AlgoritmosParalelosConceptos.ipynb)\n",
    "|-:|:-|--:|\n",
    "|[![LinkedIn](https://img.shields.io/badge/linkedin-%230077B5.svg?style=plastic&logo=linkedin&logoColor=white)](https://www.linkedin.com/in/carlosalvarez5/)|[![@alvarezhenao](https://img.shields.io/twitter/url/https/twitter.com/alvarezhenao.svg?style=social&label=Follow%20%40alvarezhenao)](https://twitter.com/alvarezhenao)|[![@carlosalvarezh](https://img.shields.io/badge/github-%23121011.svg?style=plastic&logo=github&logoColor=white)](https://github.com/carlosalvarezh)|\n",
    "\n",
    "<table>\n",
    " <tr align=left><td><img align=left src=\"https://github.com/carlosalvarezh/Curso_CEC_EAFIT/blob/main/images/CCLogoColorPop1.gif?raw=true\" width=\"25\">\n",
    " <td>Text provided under a Creative Commons Attribution license, CC-BY. All code is made available under the FSF-approved MIT license.(c) Carlos Alberto Alvarez Henao</td>\n",
    "</table>\n",
    "\n",
    "***"
   ]
  },
  {
   "cell_type": "markdown",
   "metadata": {},
   "source": [
    "## **Introducción General a la Teoría de la Computación**"
   ]
  },
  {
   "cell_type": "markdown",
   "metadata": {},
   "source": [
    "<p float=\"center\">\n",
    "  <img src=\"https://github.com/carlosalvarezh/TeoriaComputacion/blob/main/images/TC01_AbstractMachine.PNG?raw=true\" width=\"500\" />\n",
    "</p>\n",
    "\n",
    "La [**Teoría de la Computación**](https://en.wikipedia.org/wiki/Theory_of_computation) es una rama de la informática que se encarga de estudiar [modelos abstractos de computación](https://en.wikipedia.org/wiki/Abstract_machine). Estos modelos permiten analizar, de manera rigurosa, qué problemas se pueden resolver mediante algoritmos y cuáles son los límites inherentes a cualquier dispositivo de cómputo. Aunque el estudio teórico de la computación comenzó antes de la existencia de computadores reales, sus resultados son la base sobre la cual se construyen y optimizan las tecnologías actuales."
   ]
  },
  {
   "cell_type": "markdown",
   "metadata": {},
   "source": [
    "### **Objetivos**"
   ]
  },
  {
   "cell_type": "markdown",
   "metadata": {},
   "source": [
    "El objetivo principal de la Teoría de la Computación es entender **qué se puede computar** y **cómo se puede computar**. Esto se traduce en:\n",
    "\n",
    "- **Determinar la computabilidad:** Investigar qué problemas admiten una solución algorítmica y cuáles son intratables.\n",
    "- **Medir la eficiencia:** Analizar la complejidad temporal y espacial de los algoritmos.\n",
    "- **Establecer límites:** Identificar límites teóricos que no pueden superarse, independientemente de la tecnología disponible.\n",
    "\n",
    "La importancia de estos estudios radica en que proporcionan los fundamentos que permiten:\n",
    "- **Diseñar** algoritmos y sistemas de software robustos y eficientes.\n",
    "- **Entender** las capacidades y limitaciones de las máquinas computacionales.\n",
    "- **Desarrollar** nuevos modelos de computación que amplíen los límites de lo que es posible.\n"
   ]
  },
  {
   "cell_type": "markdown",
   "metadata": {},
   "source": [
    "### **Contexto Histórico**"
   ]
  },
  {
   "cell_type": "markdown",
   "metadata": {},
   "source": [
    "Empecemos por dar un [breve recorrido en el tiempo](https://ieeecs-media.computer.org/assets/pdf/timeline.pdf).\n",
    "\n",
    "Nos centraremos en las investigaciones pioneras durante la década de 1930:\n",
    "- [**Alonzo Church**](https://en.wikipedia.org/wiki/Alonzo_Church) desarrolló el [cálculo-λ](https://en.wikipedia.org/wiki/Lambda_calculus), un formalismo para definir [funciones computables](https://en.wikipedia.org/wiki/Computable_function). Propuso la *tesis de Church*, que sugiere que las funciones que pueden ser calculadas por métodos efectivos son exactamente las funciones *λ-computables*.  \n",
    "\n",
    "- [**Alan Turing**](https://en.wikipedia.org/wiki/Alan_Turing) introdujo la [máquina de Turing](https://en.wikipedia.org/wiki/Turing_machine), un modelo que simula el comportamiento de cualquier dispositivo computacional secuencial. La máquina de Turing se ha convertido en el paradigma central para el estudio de la computación.\n",
    "\n",
    "Ambos trabajos, publicados en 1936, sentaron las bases de lo que hoy se conoce como la [*tesis de Church-Turing*](https://en.wikipedia.org/wiki/Church%E2%80%93Turing_thesis), la cual establece que la máquina de Turing es tan poderosa como cualquier otro modelo de computación concebible."
   ]
  },
  {
   "cell_type": "markdown",
   "metadata": {},
   "source": [
    "### **Modelos Abstractos vs. Computadores Reales**"
   ]
  },
  {
   "cell_type": "markdown",
   "metadata": {},
   "source": [
    "- **Modelos abstractos:** Son representaciones matemáticas que permiten estudiar las propiedades fundamentales de la computación sin las limitaciones prácticas de hardware. Ejemplos: la máquina de Turing, autómatas finitos, autómatas de pila, etc.  \n",
    "\n",
    "- **Computadores reales:** Son implementaciones físicas que siguen, en esencia, los principios de los modelos abstractos. Aunque los computadores modernos son muchísimo más complejos, la teoría subyacente sigue siendo válida.  "
   ]
  },
  {
   "cell_type": "markdown",
   "metadata": {},
   "source": [
    "## **2. Definiciones Básicas**"
   ]
  },
  {
   "cell_type": "markdown",
   "metadata": {},
   "source": [
    "En esta sección introducimos los conceptos fundamentales que serán la base para el estudio de la Teoría de la Computación. Se abordan los conceptos de **computación**, **algoritmo**, **modelo abstracto** y **lenguaje formal**."
   ]
  },
  {
   "cell_type": "markdown",
   "metadata": {},
   "source": [
    "### **2.1 Computación**"
   ]
  },
  {
   "cell_type": "markdown",
   "metadata": {},
   "source": [
    "La **computación** se refiere al proceso de utilizar reglas y procedimientos definidos (algoritmos) para transformar datos o resolver problemas. Es el estudio de cómo la información puede ser procesada, almacenada y transmitida de forma automática.\n",
    "\n",
    "Imagina una calculadora que toma dos números y, aplicando una operación (por ejemplo, sumar), produce un resultado. La calculadora implementa un proceso sistemático (la suma) que transforma la entrada en una salida.\n",
    "\n",
    "La computación no se limita a operaciones aritméticas; también abarca el manejo de datos, la resolución de problemas lógicos y la toma de decisiones basadas en reglas establecidas."
   ]
  },
  {
   "cell_type": "markdown",
   "metadata": {},
   "source": [
    "### **2.2 Algoritmo**"
   ]
  },
  {
   "cell_type": "markdown",
   "metadata": {},
   "source": [
    "Un **algoritmo** es un conjunto finito de instrucciones o reglas, bien definidas y ordenadas, que indican cómo realizar una tarea o resolver un problema. Los algoritmos deben ser:\n",
    "\n",
    "- **Finitos:** Deben terminar después de un número finito de pasos.\n",
    "- **Definidos:** Cada paso debe estar claramente especificado.\n",
    "- **Efectivos:** Deben ser ejecutables, es decir, cada paso debe ser realizable de manera práctica.\n",
    "\n",
    "**Ejemplo**\n",
    "Un ejemplo clásico de algoritmo es la **receta de cocina**:\n",
    "1. Precalentar el horno a 180 °C.\n",
    "2. Mezclar harina, azúcar, huevos y mantequilla en un bol.\n",
    "3. Verter la mezcla en un molde.\n",
    "4. Hornear durante 30 minutos.\n",
    "5. Dejar enfriar y servir.\n",
    "\n",
    "Aunque en este ejemplo se sigue una secuencia de pasos para obtener un pastel, la estructura es la misma que la de cualquier algoritmo en computación."
   ]
  },
  {
   "cell_type": "markdown",
   "metadata": {},
   "source": [
    "### **2.3 Modelo Abstracto**"
   ]
  },
  {
   "cell_type": "markdown",
   "metadata": {},
   "source": [
    "Un **modelo abstracto** es una representación simplificada y matemática de un sistema real o conceptual. En el contexto de la computación, un modelo abstracto se utiliza para estudiar las propiedades fundamentales de la computación sin considerar las limitaciones prácticas de los dispositivos físicos.\n",
    "\n",
    "- **Máquina de Turing:** Un dispositivo teórico que consiste en una cinta infinita y una cabeza lectora/escritora. Es capaz de simular cualquier algoritmo, y su estudio permite entender los límites de la computación.  \n",
    "\n",
    "<p float=\"center\">\n",
    "  <img src=\"https://github.com/carlosalvarezh/TeoriaComputacion/blob/main/images/TuringMachine.gif?raw=true\" width=\"350\" />\n",
    "</p>\n",
    "\n",
    "  - **Ejemplo: Proceso de facturación en un supermercado -** Imagine la cinta como una fila potencialmente muy larga de artículos que pasan por el escáner.\n",
    "    - La “cabeza lectora” es el escáner de códigos de barras.\n",
    "    - Lee un producto → escribe en memoria el precio.\n",
    "    - Se desplaza al siguiente artículo.\n",
    "    - Cuando llega al “marcador” de fin de compra (la barra separadora) detiene la lectura, imprime la factura y se declara “aceptar” (transacción completa).\n",
    "\n",
    "- **Autómata Finito:** Un modelo matemático que se utiliza para representar sistemas con un número finito de estados, útil para el análisis de lenguajes regulares y el diseño de ciertos tipos de software y hardware.\n",
    "\n",
    "  - **Ejemplo:** Considera un semáforo. Si bien es un sistema físico, podemos modelarlo como un autómata finito con tres estados (verde, amarillo, rojo) y transiciones determinadas por un temporizador. Este modelo abstracto ayuda a analizar y diseñar sistemas de control para semáforos sin entrar en los detalles de la mecánica o electrónica involucrada.ç\n",
    "\n",
    "  <p float=\"center\">\n",
    "  <img src=\"https://github.com/carlosalvarezh/TeoriaComputacion/blob/main/images/state-transitions-semaphore.jpg?raw=true\" width=\"350\" />\n",
    "</p>\n",
    "\n"
   ]
  },
  {
   "cell_type": "markdown",
   "metadata": {},
   "source": [
    "### **2.4 Lenguaje Formal**"
   ]
  },
  {
   "cell_type": "markdown",
   "metadata": {},
   "source": [
    "Un **lenguaje formal** es un conjunto de cadenas de símbolos que se definen a partir de un **alfabeto** (un conjunto finito de símbolos) y que cumplen ciertas reglas gramaticales. Los lenguajes formales son utilizados para describir y estudiar las propiedades de los sistemas computacionales y de los lenguajes de programación.\n",
    "\n",
    "**Componentes Clave**\n",
    "- **Alfabeto:** Un conjunto finito de símbolos (por ejemplo, {0,1} para el lenguaje binario).\n",
    "- **Gramática:** Un conjunto de reglas (o producciones) que definen cómo se pueden formar las cadenas válidas a partir del alfabeto.\n",
    "\n",
    "**Ejemplo**\n",
    "El lenguaje formal de los números binarios:\n",
    "- **Alfabeto:** {0, 1}\n",
    "- **Reglas:** \n",
    "  - La cadena vacía es válida.\n",
    "  - Si `s` es una cadena válida, entonces `s0` y `s1` también son válidas.\n",
    "\n",
    "Esta regla significa que, partiendo de una cadena que ya cumple con las condiciones del lenguaje, se puede generar una nueva cadena añadiendo un 0 o un 1 al final de la cadena original. Esto es fundamental para definir la recursividad en la formación de las cadenas. Veamos más en detalle:\n",
    "\n",
    "**1. Base de la Recursión:**  \n",
    "   Para que la regla funcione, normalmente se define un caso base. En este ejemplo, se puede considerar que la cadena vacía (denotada por `ε`) es válida. Esto establece el punto de partida.\n",
    "\n",
    "**2. Extensión de Cadenas Válidas:**  \n",
    "   Si tenemos una cadena `s` que ya es válida (por ejemplo, `101`), la regla nos dice que podemos formar nuevas cadenas válidas:\n",
    "   - Agregando un `0`: `1010`\n",
    "   - Agregando un `1`: `1011`\n",
    "\n",
    "   Esto permite generar todas las posibles combinaciones de 0s y 1s a partir del caso base.\n",
    "\n",
    "**3. Construcción del Lenguaje Completo:**  \n",
    "   Al aplicar esta regla repetidamente, se construye todo el conjunto de cadenas sobre el alfabeto {0, 1}. Cada nueva cadena se forma extendiendo una cadena existente, lo que garantiza que se pueden generar cadenas de cualquier longitud.\n",
    "\n",
    "**4. Ejemplo Visual:**\n",
    "   - Empezamos con la cadena vacía: `ε`\n",
    "   - Aplicamos la regla a `ε`: obtenemos `ε0` (es decir, `0`) y `ε1` (es decir, `1`)\n",
    "   - Luego, para la cadena `0`:\n",
    "     - `0` → `00` y `01`\n",
    "   - Y para la cadena `1`:\n",
    "     - `1` → `10` y `11`\n",
    "\n",
    "   Así se va generando el conjunto completo: `{ε, 0, 1, 00, 01, 10, 11, 000, ...}`.\n",
    "\n",
    "En resumen, la regla establece un mecanismo recursivo para generar cadenas del lenguaje: cada cadena válida sirve de \"semilla\" para crear nuevas cadenas válidas al agregarle cualquiera de los dos símbolos del alfabeto. Este método es común en definiciones de lenguajes formales porque permite construir de forma sistemática conjuntos infinitos a partir de reglas simples.\n",
    "\n",
    "\n",
    "  Esto define un conjunto de cadenas que representan todos los números en sistema binario.\n",
    "\n",
    "El estudio de lenguajes formales es esencial para entender la sintaxis y semántica de los lenguajes de programación, así como para desarrollar compiladores y sistemas de reconocimiento de patrones.\n"
   ]
  },
  {
   "cell_type": "markdown",
   "metadata": {},
   "source": [
    "### **Conclusión**"
   ]
  },
  {
   "cell_type": "markdown",
   "metadata": {},
   "source": [
    "Los conceptos de **computación**, **algoritmo**, **modelo abstracto** y **lenguaje formal** son pilares fundamentales en el estudio de la Teoría de la Computación.  \n",
    "- **Computación** se centra en el procesamiento de la información mediante algoritmos.\n",
    "- **Algoritmo** es la secuencia de pasos que permite transformar datos y resolver problemas.\n",
    "- **Modelo abstracto** proporciona una representación simplificada de sistemas complejos, facilitando el análisis teórico.\n",
    "- **Lenguaje formal** permite definir de manera precisa las cadenas de símbolos y las reglas para su formación, siendo crucial para la programación y la construcción de compiladores.\n",
    "\n",
    "Estos conceptos se entrelazan para formar la base sobre la que se construyen otros modelos más complejos, como las máquinas de Turing y los autómatas, y sirven para establecer una disciplina rigurosa que ha influido tanto en la teoría como en la práctica de la informática."
   ]
  },
  {
   "cell_type": "markdown",
   "metadata": {},
   "source": [
    "## **Recomendaciones de Lectura y Referencias Bibliográficas**\n",
    "\n",
    "Para aquellos interesados en profundizar en estos temas, se recomiendan las siguientes obras y recursos:\n",
    "\n",
    "- **\"Introduction to the Theory of Computation\"** de Michael Sipser  \n",
    "  Una obra reconocida que explica de manera rigurosa y accesible los fundamentos de la computación, incluyendo la máquina de Turing, autómatas y complejidad computacional.\n",
    "\n",
    "- **\"Introduction to Automata Theory, Languages, and Computation\"** de John Hopcroft, Rajeev Motwani y Jeffrey Ullman  \n",
    "  Este texto clásico establece las bases de los autómatas, lenguajes formales y gramáticas, y explora su interrelación.\n",
    "\n",
    "- **\"Computability and Unsolvability\"** de Martin Davis  \n",
    "  Un recurso que profundiza en la teoría de la computabilidad y en los límites de la resolución algorítmica de problemas.\n",
    "\n",
    "- **Artículos y textos originales:**\n",
    "  - El artículo de **Alan Turing (1936)** en el que se introduce la máquina de Turing.\n",
    "  - Los trabajos de **Alonzo Church** y la formulación de la tesis de Church.\n",
    "\n",
    "- **Sipser, Michael. \"Introduction to the Theory of Computation.\"**  \n",
    "  Un libro muy accesible y completo que aborda desde los fundamentos hasta temas avanzados en la teoría de la computación.\n",
    "\n",
    "- **Hopcroft, John, Rajeev Motwani y Jeffrey Ullman. \"Introduction to Automata Theory, Languages, and Computation.\"**  \n",
    "  Texto clásico que establece una sólida base en autómatas, gramáticas formales y lenguajes.\n",
    "\n",
    "- **Davis, Martin. \"Computability and Unsolvability.\"**  \n",
    "  Una obra más orientada a profundizar en la teoría de la computabilidad y en los límites de lo que puede ser calculado.\n",
    "\n"
   ]
  }
 ],
 "metadata": {
  "language_info": {
   "name": "python"
  }
 },
 "nbformat": 4,
 "nbformat_minor": 2
}
